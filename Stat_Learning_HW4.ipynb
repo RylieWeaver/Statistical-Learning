{
  "nbformat": 4,
  "nbformat_minor": 0,
  "metadata": {
    "colab": {
      "provenance": []
    },
    "kernelspec": {
      "name": "python3",
      "display_name": "Python 3"
    },
    "language_info": {
      "name": "python"
    }
  },
  "cells": [
    {
      "cell_type": "markdown",
      "source": [
        "## Stat Learning HW4"
      ],
      "metadata": {
        "id": "UMLmx8wQZO1o"
      }
    },
    {
      "cell_type": "markdown",
      "source": [
        "### Problem 2"
      ],
      "metadata": {
        "id": "2xMIuCaYZRT5"
      }
    },
    {
      "cell_type": "code",
      "source": [
        "import numpy as np\n",
        "from scipy.optimize import minimize"
      ],
      "metadata": {
        "id": "wy7Uo271Y0hj"
      },
      "execution_count": 4,
      "outputs": []
    },
    {
      "cell_type": "code",
      "source": [
        "# Define the objective function (β1^2 + β2^2)\n",
        "def objective(beta):\n",
        "    beta0, beta1, beta2 = beta\n",
        "    return beta1**2 + beta2**2\n",
        "\n",
        "# Define the constraints for each point\n",
        "def constraint(beta, point, label):\n",
        "    beta0, beta1, beta2 = beta\n",
        "    return label * (beta0 + beta1 * point[0] + beta2 * point[1]) - 1"
      ],
      "metadata": {
        "id": "kzNvQaM4ZYhU"
      },
      "execution_count": 5,
      "outputs": []
    },
    {
      "cell_type": "code",
      "source": [
        "# Define the points and labels\n",
        "points = np.array([[0, 4], [1, 2], [0, -1], [-1, 0]])\n",
        "labels = np.array([1, 1, -1, -1])\n",
        "\n",
        "# Collect all constraints\n",
        "cons = [{'type': 'ineq', 'fun': constraint, 'args': (points[i], labels[i])} for i in range(len(points))]\n",
        "\n",
        "# Initial guess for β0, β1, β2\n",
        "initial_guess = np.array([0, 0, 0])"
      ],
      "metadata": {
        "id": "S7svcJ2lZW-6"
      },
      "execution_count": 6,
      "outputs": []
    },
    {
      "cell_type": "code",
      "source": [
        "# Run the optimizer\n",
        "result = minimize(objective, initial_guess, method='SLSQP', constraints=cons)\n",
        "\n",
        "# Output the results\n",
        "if result.success:\n",
        "    beta0, beta1, beta2 = result.x\n",
        "    # Round these to account for floating point errors\n",
        "    print(f'Optimal values: β0 = {round(beta0, 3)}, β1 = {round(beta1, 3)}, β2 = {round(beta2, 3)}')\n",
        "    print(f'Minimized value of β1^2 + β2^2: {round(result.fun, 3)}')\n",
        "else:\n",
        "    print('Optimization failed:', result.message)"
      ],
      "metadata": {
        "colab": {
          "base_uri": "https://localhost:8080/"
        },
        "id": "lhhIRgGyY1Bo",
        "outputId": "fd269a59-b855-492f-cdf3-18059299d4e4"
      },
      "execution_count": 8,
      "outputs": [
        {
          "output_type": "stream",
          "name": "stdout",
          "text": [
            "Optimal values: β0 = -0.5, β1 = 0.5, β2 = 0.5\n",
            "Minimized value of β1^2 + β2^2: 0.5\n"
          ]
        }
      ]
    }
  ]
}